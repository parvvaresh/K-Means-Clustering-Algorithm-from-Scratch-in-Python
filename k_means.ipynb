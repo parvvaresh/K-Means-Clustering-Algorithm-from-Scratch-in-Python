{
  "nbformat": 4,
  "nbformat_minor": 0,
  "metadata": {
    "colab": {
      "provenance": [],
      "authorship_tag": "ABX9TyO35xqikT6ifWECew4p8ff9",
      "include_colab_link": true
    },
    "kernelspec": {
      "name": "python3",
      "display_name": "Python 3"
    },
    "language_info": {
      "name": "python"
    }
  },
  "cells": [
    {
      "cell_type": "markdown",
      "metadata": {
        "id": "view-in-github",
        "colab_type": "text"
      },
      "source": [
        "<a href=\"https://colab.research.google.com/github/parvvaresh/K-Means-Clustering-Algorithm-from-Scratch-in-Python/blob/main/k_means.ipynb\" target=\"_parent\"><img src=\"https://colab.research.google.com/assets/colab-badge.svg\" alt=\"Open In Colab\"/></a>"
      ]
    },
    {
      "cell_type": "code",
      "execution_count": 14,
      "metadata": {
        "id": "kdfLFmA3YtaI"
      },
      "outputs": [],
      "source": [
        "import numpy as np\n",
        "class k_means:\n",
        "  def __init__(self, k = 2, tol = 0.001, max_iter = 300):\n",
        "    self.k = k\n",
        "    self.tol = tol\n",
        "    self.max_iter = max_iter\n",
        "  def fit(self, data):\n",
        "\n",
        "    self.centers = {}\n",
        "    for index in range(0, self.k):\n",
        "      self.centers[index] = data[index]\n",
        "    \n",
        "    self.classifications = {}\n",
        "    for index in range(0, self.k):\n",
        "      self.classifications[index] = []\n",
        "\n",
        "    for _e in range(0, self.max_iter):\n",
        "\n",
        "      for feature in data:\n",
        "\n",
        "        distance = [(np.linalg.norm(feature - self.centers[center])) for center in self.centers]\n",
        "        classification = distance.index(min(distance))\n",
        "        self.classifications[classification].append(feature)\n",
        "      \n",
        "\n",
        "      centers_copy = self.centers.copy()\n",
        "      check = True\n",
        "\n",
        "      for classification in self.classifications:\n",
        "        self.centers[classification] = np.average(self.classifications[classification], axis = 0)\n",
        "      \n",
        "      \n",
        "      \n",
        "      for center in self.centers:\n",
        "        original_centroid = centers_copy[center]\n",
        "        current_centroid = self.centers[center]\n",
        "        if np.sum((current_centroid-original_centroid)/original_centroid * 100.0) > self.tol:\n",
        "          print(np.sum((current_centroid-original_centroid)/original_centroid * 100.0))\n",
        "          check = False\n",
        "      \n",
        "      if check == False:\n",
        "        break\n",
        "    \n",
        "  def predict(self, data):\n",
        "    distance = [(np.linalg.norm(data - self.centers[center])) for center in self.centers]\n",
        "    classification = distance.index(min(distance))\n",
        "    self.classifications[classification].append(data)            "
      ]
    },
    {
      "cell_type": "code",
      "source": [
        "import matplotlib.pyplot as plt\n",
        "from matplotlib import style\n",
        "style.use('ggplot')\n",
        "X = np.array([[1, 2],\n",
        "              [1.5, 1.8],\n",
        "              [5, 8 ],\n",
        "              [8, 8],\n",
        "              [1, 0.6],\n",
        "              [9,11]])\n",
        "\n",
        "plt.scatter(X[:,0], X[:,1], s=150)\n",
        "plt.show()"
      ],
      "metadata": {
        "colab": {
          "base_uri": "https://localhost:8080/",
          "height": 265
        },
        "id": "p1eRmm7o6hCA",
        "outputId": "4ad73abd-aa99-414e-a23f-7d39dffd88a9"
      },
      "execution_count": 15,
      "outputs": [
        {
          "output_type": "display_data",
          "data": {
            "text/plain": [
              "<Figure size 432x288 with 1 Axes>"
            ],
            "image/png": "[encoded data removed]"
          },
          "metadata": {}
        }
      ]
    },
    {
      "cell_type": "code",
      "source": [
        "model = k_means()\n",
        "model.fit(X)"
      ],
      "metadata": {
        "colab": {
          "base_uri": "https://localhost:8080/"
        },
        "id": "aHzrLE1S7cpc",
        "outputId": "62e19d20-3698-45cf-b7e7-a331553b6a74"
      },
      "execution_count": 16,
      "outputs": [
        {
          "output_type": "stream",
          "name": "stdout",
          "text": [
            "453.3333333333334\n"
          ]
        }
      ]
    },
    {
      "cell_type": "code",
      "source": [
        "for center in model.centers:\n",
        "    plt.scatter(model.centers[center][0], model.centers[center][1],\n",
        "                marker=\"o\", color=\"k\", s=150, linewidths=5)\n",
        "\n",
        "\n",
        "colors = {\n",
        "    0 : \"red\",\n",
        "    1 : \"blue\"\n",
        "}\n",
        "for classification in model.classifications:\n",
        "    color = colors[classification]\n",
        "    for featureset in model.classifications[classification]:\n",
        "        plt.scatter(featureset[0], featureset[1], marker=\"x\", color=color, s=150, linewidths=5)\n",
        "        \n",
        "plt.show()"
      ],
      "metadata": {
        "colab": {
          "base_uri": "https://localhost:8080/",
          "height": 265
        },
        "id": "abPfc6447SBr",
        "outputId": "67ceb268-172b-415a-fe87-00dcd9daadb8"
      },
      "execution_count": 13,
      "outputs": [
        {
          "output_type": "display_data",
          "data": {
            "text/plain": [
              "<Figure size 432x288 with 1 Axes>"
            ],
            "image/png": "[encoded data removed]"
          },
          "metadata": {}
        }
      ]
    }
  ]
}